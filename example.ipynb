{
 "cells": [
  {
   "cell_type": "markdown",
   "metadata": {},
   "source": [
    "# Markup Heatmaps!\n",
    "\n",
    "Markup Heatmaps are designed to visualize large html data scrape.\n",
    "\n",
    "Live at [/markup-heatmaps](https://bharxhav.github.io/markup-heatmaps/).\n",
    "\n",
    "Part of [isthisanai](https://www.isthisan.ai/b/markup-heatmaps)?\n"
   ]
  },
  {
   "cell_type": "code",
   "execution_count": 1,
   "metadata": {},
   "outputs": [],
   "source": [
    "import os\n",
    "import sys\n",
    "sys.path.append(\"./code\")"
   ]
  },
  {
   "cell_type": "markdown",
   "metadata": {},
   "source": [
    "## Part 1: Reading Tags\n"
   ]
  },
  {
   "cell_type": "code",
   "execution_count": 2,
   "metadata": {},
   "outputs": [],
   "source": [
    "from tag_reader import TagReader"
   ]
  },
  {
   "cell_type": "code",
   "execution_count": 3,
   "metadata": {},
   "outputs": [],
   "source": [
    "htmls_dir = \"./data/htmls\"\n",
    "doms_dir = \"./data/doms\""
   ]
  },
  {
   "cell_type": "code",
   "execution_count": 4,
   "metadata": {},
   "outputs": [],
   "source": [
    "for file in os.listdir(htmls_dir):\n",
    "    if file.endswith(\".html\"):\n",
    "        # check if the file is already processed\n",
    "        if os.path.exists(os.path.join(doms_dir, file.replace(\".html\", \".json\"))):\n",
    "            continue\n",
    "\n",
    "        reader = TagReader(os.path.join(htmls_dir, file))\n",
    "        dom = reader.parse()\n",
    "        reader.save_to_file(os.path.join(\n",
    "            doms_dir, file.replace(\".html\", \".json\")))"
   ]
  },
  {
   "cell_type": "markdown",
   "metadata": {},
   "source": [
    "### Sample\n",
    "\n",
    "```json\n",
    "        {\n",
    "          \"body\": [\n",
    "            {\n",
    "              \"header\": [\n",
    "                {\n",
    "                  \"figure\": [\n",
    "                    {\n",
    "                      \"a\": [\n",
    "                        {\n",
    "                          \"img\": []\n",
    "                        }\n",
    "                      ]\n",
    "                    }\n",
    "                  ]\n",
    "                },\n",
    "```\n"
   ]
  },
  {
   "cell_type": "markdown",
   "metadata": {},
   "source": [
    "## Part 2: Aggregating `n` such DOMs\n"
   ]
  },
  {
   "cell_type": "code",
   "execution_count": 5,
   "metadata": {},
   "outputs": [],
   "source": [
    "from dom_aggregator import DomAggregator"
   ]
  },
  {
   "cell_type": "code",
   "execution_count": 6,
   "metadata": {},
   "outputs": [],
   "source": [
    "da = DomAggregator(doms_dir)\n",
    "da.aggregate()\n",
    "da.save_to_file(\"./assets/aggregated_dom.json\")"
   ]
  },
  {
   "cell_type": "markdown",
   "metadata": {},
   "source": [
    "### Sample\n",
    "\n",
    "```json\n",
    "          \"body\": {\n",
    "            \"stats\": {\n",
    "              \"count\": 1696,\n",
    "              \"total_occurrences\": 1696,\n",
    "              \"percentage\": 100.0\n",
    "            },\n",
    "            \"children\": {\n",
    "              \"header\": {\n",
    "                \"stats\": {\n",
    "                  \"count\": 1696,\n",
    "                  \"total_occurrences\": 1696,\n",
    "                  \"percentage\": 100.0\n",
    "                },\n",
    "                \"children\": {\n",
    "                  \"figure\": {\n",
    "                    \"stats\": {\n",
    "                      \"count\": 1696,\n",
    "                      \"total_occurrences\": 1696,\n",
    "                      \"percentage\": 100.0\n",
    "                    },\n",
    "                    \"children\": {\n",
    "                      \"a\": {\n",
    "                        \"stats\": {\n",
    "                          \"count\": 1696,\n",
    "                          \"total_occurrences\": 1696,\n",
    "                          \"percentage\": 100.0\n",
    "                        },\n",
    "                        \"children\": {\n",
    "                          \"img\": {\n",
    "                            \"stats\": {\n",
    "                              \"count\": 1696,\n",
    "                              \"total_occurrences\": 1696,\n",
    "                              \"percentage\": 100.0\n",
    "                            },\n",
    "                            \"children\": {}\n",
    "                          }\n",
    "                        }\n",
    "                      }\n",
    "                    }\n",
    "                  },\n",
    "```\n"
   ]
  },
  {
   "cell_type": "markdown",
   "metadata": {},
   "source": [
    "## Part 3: Visualize it!\n",
    "\n",
    "![sample.png](./assets/sample.png)\n"
   ]
  },
  {
   "cell_type": "markdown",
   "metadata": {},
   "source": [
    "---\n",
    "\n",
    "Under [its-ours](https://its-ours.org) license.\n"
   ]
  }
 ],
 "metadata": {
  "kernelspec": {
   "display_name": "Python 3",
   "language": "python",
   "name": "python3"
  },
  "language_info": {
   "codemirror_mode": {
    "name": "ipython",
    "version": 3
   },
   "file_extension": ".py",
   "mimetype": "text/x-python",
   "name": "python",
   "nbconvert_exporter": "python",
   "pygments_lexer": "ipython3",
   "version": "3.11.5"
  }
 },
 "nbformat": 4,
 "nbformat_minor": 2
}
