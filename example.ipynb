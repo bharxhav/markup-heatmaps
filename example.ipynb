{
 "cells": [
  {
   "cell_type": "code",
   "execution_count": 1,
   "metadata": {},
   "outputs": [],
   "source": [
    "import os\n",
    "import sys\n",
    "sys.path.append(\"./code\")"
   ]
  },
  {
   "cell_type": "code",
   "execution_count": 2,
   "metadata": {},
   "outputs": [],
   "source": [
    "from tag_reader import TagReader\n",
    "from dom_aggregator import DomAggregator"
   ]
  },
  {
   "cell_type": "code",
   "execution_count": 3,
   "metadata": {},
   "outputs": [],
   "source": [
    "htmls_dir = \"./data/htmls\"  \n",
    "doms_dir = \"./data/doms\""
   ]
  },
  {
   "cell_type": "code",
   "execution_count": 4,
   "metadata": {},
   "outputs": [],
   "source": [
    "for file in os.listdir(htmls_dir):\n",
    "    if file.endswith(\".html\"):\n",
    "        # check if the file is already processed\n",
    "        if os.path.exists(os.path.join(doms_dir, file.replace(\".html\", \".json\"))):\n",
    "            continue\n",
    "\n",
    "        reader = TagReader(os.path.join(htmls_dir, file))\n",
    "        dom = reader.parse()\n",
    "        reader.save_to_file(os.path.join(doms_dir, file.replace(\".html\", \".json\")))\n"
   ]
  },
  {
   "cell_type": "markdown",
   "metadata": {},
   "source": [
    "### Sample\n",
    "\n",
    "```json\n",
    "        },\n",
    "        {\n",
    "          \"body\": [\n",
    "            {\n",
    "              \"header\": [\n",
    "                {\n",
    "                  \"figure\": [\n",
    "                    {\n",
    "                      \"a\": [\n",
    "                        {\n",
    "                          \"img\": []\n",
    "                        }\n",
    "                      ]\n",
    "                    }\n",
    "                  ]\n",
    "                },\n",
    "```\n"
   ]
  }
 ],
 "metadata": {
  "kernelspec": {
   "display_name": "Python 3",
   "language": "python",
   "name": "python3"
  },
  "language_info": {
   "codemirror_mode": {
    "name": "ipython",
    "version": 3
   },
   "file_extension": ".py",
   "mimetype": "text/x-python",
   "name": "python",
   "nbconvert_exporter": "python",
   "pygments_lexer": "ipython3",
   "version": "3.11.5"
  }
 },
 "nbformat": 4,
 "nbformat_minor": 2
}
